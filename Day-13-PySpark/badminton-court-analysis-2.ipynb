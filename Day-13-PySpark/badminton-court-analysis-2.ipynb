{
 "cells": [
  {
   "cell_type": "code",
   "execution_count": 1,
   "id": "94018a73-1fb0-4fd0-a5d7-d6a579fba90b",
   "metadata": {},
   "outputs": [],
   "source": [
    "from pyspark.sql import SparkSession\n",
    "from pyspark.sql.types import StructType, StructField, IntegerType, StringType\n",
    "from pyspark.sql import functions as f\n",
    "from pyspark.sql.window import Window"
   ]
  },
  {
   "cell_type": "code",
   "execution_count": 2,
   "id": "0e3e5956-146d-4ddb-b16a-73ed656c3bed",
   "metadata": {},
   "outputs": [],
   "source": [
    "spark = SparkSession.builder.appName(\"Badminton Court Analysis - 2\").getOrCreate()"
   ]
  },
  {
   "cell_type": "code",
   "execution_count": 3,
   "id": "3029992a-6a53-43e7-92a7-6309998e628e",
   "metadata": {},
   "outputs": [
    {
     "data": {
      "text/html": [
       "\n",
       "            <div>\n",
       "                <p><b>SparkSession - in-memory</b></p>\n",
       "                \n",
       "        <div>\n",
       "            <p><b>SparkContext</b></p>\n",
       "\n",
       "            <p><a href=\"http://e82399e7e1cc:4040\">Spark UI</a></p>\n",
       "\n",
       "            <dl>\n",
       "              <dt>Version</dt>\n",
       "                <dd><code>v3.5.0</code></dd>\n",
       "              <dt>Master</dt>\n",
       "                <dd><code>local[*]</code></dd>\n",
       "              <dt>AppName</dt>\n",
       "                <dd><code>Badminton Court Analysis - 2</code></dd>\n",
       "            </dl>\n",
       "        </div>\n",
       "        \n",
       "            </div>\n",
       "        "
      ],
      "text/plain": [
       "<pyspark.sql.session.SparkSession at 0x7f6ec3c147d0>"
      ]
     },
     "execution_count": 3,
     "metadata": {},
     "output_type": "execute_result"
    }
   ],
   "source": [
    "spark"
   ]
  },
  {
   "cell_type": "code",
   "execution_count": 4,
   "id": "d5e43802-83e7-4bb9-89b9-262894bd22d4",
   "metadata": {},
   "outputs": [],
   "source": [
    "# Define the schema corresponding to the data\n",
    "schema = StructType([\n",
    "    StructField(\"user_id\", IntegerType(), True),\n",
    "    StructField(\"kit_id\", IntegerType(), True),\n",
    "    StructField(\"login_date\", StringType(), True),\n",
    "    StructField(\"session_count\", IntegerType(), True)\n",
    "])"
   ]
  },
  {
   "cell_type": "code",
   "execution_count": 5,
   "id": "7b120e5c-1a1c-4b09-a20d-530d102f58f8",
   "metadata": {},
   "outputs": [],
   "source": [
    "data = [\n",
    "    (1, 2, \"2016-03-01\", 5),\n",
    "    (1, 2, \"2016-03-02\", 6),\n",
    "    (2, 3, \"2017-06-25\", 1),\n",
    "    (3, 1, \"2016-03-02\", 0),\n",
    "    (3, 4, \"2018-07-03\", 5)\n",
    "]"
   ]
  },
  {
   "cell_type": "code",
   "execution_count": 6,
   "id": "65aded18-a07e-47ef-a553-ba5f374f47dc",
   "metadata": {},
   "outputs": [],
   "source": [
    "# Create DataFrame\n",
    "input_df = spark.createDataFrame(data, schema=schema)"
   ]
  },
  {
   "cell_type": "code",
   "execution_count": 7,
   "id": "52c6e5f2-d89c-4b13-bf04-b03d99559733",
   "metadata": {},
   "outputs": [
    {
     "name": "stdout",
     "output_type": "stream",
     "text": [
      "+-------+------+----------+-------------+\n",
      "|user_id|kit_id|login_date|session_count|\n",
      "+-------+------+----------+-------------+\n",
      "|      1|     2|2016-03-01|            5|\n",
      "|      1|     2|2016-03-02|            6|\n",
      "|      2|     3|2017-06-25|            1|\n",
      "|      3|     1|2016-03-02|            0|\n",
      "|      3|     4|2018-07-03|            5|\n",
      "+-------+------+----------+-------------+\n",
      "\n"
     ]
    }
   ],
   "source": [
    "input_df.show()"
   ]
  },
  {
   "cell_type": "code",
   "execution_count": 8,
   "id": "fe00a378-a57c-4ee0-a322-5f1f84fa8fda",
   "metadata": {},
   "outputs": [],
   "source": [
    "# Problem 1\n",
    "# Write a solution to report the device that is first logged in for each player "
   ]
  },
  {
   "cell_type": "code",
   "execution_count": 9,
   "id": "be7f0f38-d42d-46c8-82c9-d7bd3c50af68",
   "metadata": {},
   "outputs": [],
   "source": [
    "# Solution: Using SQL\n",
    "\n",
    "# WITH ranked_cte AS\n",
    "# \t(\n",
    "# \t\tSELECT\n",
    "# \t\t\t*,\n",
    "# \t\t\tROW_NUMBER() OVER (PARTITION BY  user_id ORDER BY login_date) AS rn \n",
    "# \t\tFROM\n",
    "# \t\t\tcourt\n",
    "# \t)\n",
    "# SELECT\n",
    "# \tuser_id,\n",
    "# \tkit_id\n",
    "# FROM\n",
    "# \tranked_cte\n",
    "# WHERE\n",
    "# \trn = 1;"
   ]
  },
  {
   "cell_type": "code",
   "execution_count": 10,
   "id": "01808755-5132-4420-bfc3-b95f975303eb",
   "metadata": {},
   "outputs": [],
   "source": [
    "windowSpec = Window.partitionBy(\"user_id\").orderBy(\"login_date\")\n",
    "\n",
    "ranked_df = input_df.withColumn(\n",
    "    \"rnk\", f.rank().over(windowSpec)\n",
    ")"
   ]
  },
  {
   "cell_type": "code",
   "execution_count": 11,
   "id": "633a5c74-6ac6-4492-847e-d7269225e58c",
   "metadata": {},
   "outputs": [
    {
     "name": "stdout",
     "output_type": "stream",
     "text": [
      "+-------+------+----------+-------------+---+\n",
      "|user_id|kit_id|login_date|session_count|rnk|\n",
      "+-------+------+----------+-------------+---+\n",
      "|      1|     2|2016-03-01|            5|  1|\n",
      "|      1|     2|2016-03-02|            6|  2|\n",
      "|      2|     3|2017-06-25|            1|  1|\n",
      "|      3|     1|2016-03-02|            0|  1|\n",
      "|      3|     4|2018-07-03|            5|  2|\n",
      "+-------+------+----------+-------------+---+\n",
      "\n"
     ]
    }
   ],
   "source": [
    "ranked_df.show()"
   ]
  },
  {
   "cell_type": "code",
   "execution_count": 12,
   "id": "15659780-9b67-4362-8bbb-706b4e0e1012",
   "metadata": {},
   "outputs": [],
   "source": [
    "result = ranked_df.select(\n",
    "    f.col(\"user_id\"),\n",
    "    f.col(\"kit_id\").alias(\"first_device_used\")\n",
    ").filter(f.col(\"rnk\") == 1)"
   ]
  },
  {
   "cell_type": "code",
   "execution_count": 13,
   "id": "f4799e16-67f6-4a55-9f28-9b981cf49f7b",
   "metadata": {},
   "outputs": [
    {
     "name": "stdout",
     "output_type": "stream",
     "text": [
      "+-------+-----------------+\n",
      "|user_id|first_device_used|\n",
      "+-------+-----------------+\n",
      "|      1|                2|\n",
      "|      2|                3|\n",
      "|      3|                1|\n",
      "+-------+-----------------+\n",
      "\n"
     ]
    }
   ],
   "source": [
    "result.show()"
   ]
  },
  {
   "cell_type": "code",
   "execution_count": null,
   "id": "412e7133-3ea5-4b9b-8a5f-97366ab848fc",
   "metadata": {},
   "outputs": [],
   "source": []
  },
  {
   "cell_type": "code",
   "execution_count": 14,
   "id": "d818dc89-cc7d-40f6-a15a-445e40bf5f65",
   "metadata": {},
   "outputs": [],
   "source": [
    "# Problem 2:\n",
    "# Write a solution to report for each player and date, how many games played so far by the player.\n",
    "# That is, the total number of gamed played by the player until the date"
   ]
  },
  {
   "cell_type": "code",
   "execution_count": 15,
   "id": "c2f71926-49db-401b-bc29-b12118776edb",
   "metadata": {},
   "outputs": [],
   "source": [
    "# Solution: Using SQL\n",
    "\n",
    "# select \n",
    "# \tuser_id as player_id,\n",
    "# \tlogin_date as event_date,\n",
    "# \tSUM(sessions_count) OVER (partition by user_id order by login_date) as games_played_so_far\n",
    "# from \n",
    "# \tcourt;"
   ]
  },
  {
   "cell_type": "code",
   "execution_count": 16,
   "id": "407b624c-a6a2-4dd8-b10d-80844247c0c2",
   "metadata": {},
   "outputs": [],
   "source": [
    "windowSpec = Window.partitionBy(\"user_id\").orderBy(\"login_date\")\n",
    "\n",
    "ranked_df = input_df.withColumn(\n",
    "    \"games_played_so_far\", f.sum(f.col(\"session_count\")).over(windowSpec)\n",
    ")"
   ]
  },
  {
   "cell_type": "code",
   "execution_count": 17,
   "id": "419cac10-b791-47a2-91ea-8b151aa71c53",
   "metadata": {},
   "outputs": [
    {
     "name": "stdout",
     "output_type": "stream",
     "text": [
      "+-------+------+----------+-------------+-------------------+\n",
      "|user_id|kit_id|login_date|session_count|games_played_so_far|\n",
      "+-------+------+----------+-------------+-------------------+\n",
      "|      1|     2|2016-03-01|            5|                  5|\n",
      "|      1|     2|2016-03-02|            6|                 11|\n",
      "|      2|     3|2017-06-25|            1|                  1|\n",
      "|      3|     1|2016-03-02|            0|                  0|\n",
      "|      3|     4|2018-07-03|            5|                  5|\n",
      "+-------+------+----------+-------------+-------------------+\n",
      "\n"
     ]
    }
   ],
   "source": [
    "ranked_df.show()"
   ]
  },
  {
   "cell_type": "code",
   "execution_count": 18,
   "id": "33d0d419-3645-4c66-8a3c-8901b1aa7687",
   "metadata": {},
   "outputs": [],
   "source": [
    "result = ranked_df.select(f.col(\"user_id\").alias(\"player_id\"), f.col(\"login_date\").alias(\"event_date\"), f.col(\"games_played_so_far\"))"
   ]
  },
  {
   "cell_type": "code",
   "execution_count": 19,
   "id": "bdcc1033-cbe0-4799-bae3-1b88aa58a44e",
   "metadata": {},
   "outputs": [
    {
     "name": "stdout",
     "output_type": "stream",
     "text": [
      "+---------+----------+-------------------+\n",
      "|player_id|event_date|games_played_so_far|\n",
      "+---------+----------+-------------------+\n",
      "|        1|2016-03-01|                  5|\n",
      "|        1|2016-03-02|                 11|\n",
      "|        2|2017-06-25|                  1|\n",
      "|        3|2016-03-02|                  0|\n",
      "|        3|2018-07-03|                  5|\n",
      "+---------+----------+-------------------+\n",
      "\n"
     ]
    }
   ],
   "source": [
    "result.show()"
   ]
  },
  {
   "cell_type": "code",
   "execution_count": null,
   "id": "843e4c16-df05-45b8-b717-fafbf03b74a6",
   "metadata": {},
   "outputs": [],
   "source": []
  },
  {
   "cell_type": "code",
   "execution_count": 20,
   "id": "12714ea0-b734-4636-8050-e1a096acfc78",
   "metadata": {},
   "outputs": [],
   "source": [
    "# Problem 3\n",
    "# Write a solution to report players that logged in again on the day after the day they first logged in. \n",
    "# In other words, you need to find the players IDs that logged in for at least two consecutive days starting from their first login date"
   ]
  },
  {
   "cell_type": "code",
   "execution_count": 21,
   "id": "4ded4411-cb4d-4d8e-a01e-0f854a7f6bf6",
   "metadata": {},
   "outputs": [],
   "source": [
    "# Solution: Using SQL\n",
    "\n",
    "# WITH curr_prev_login AS\n",
    "# \t(\n",
    "# \t\tselect\n",
    "# \t\t\t*,\n",
    "# \t\t\tLEAD(login_date) over (partition by user_id order by login_date) as next_date\n",
    "# \t\tfrom\n",
    "# \t\t\tcourt\n",
    "# \t\torder by\n",
    "# \t\t\tuser_id,\n",
    "# \t\t\tlogin_date\n",
    "# \t)\n",
    "# select\n",
    "# \tuser_id\n",
    "# from\n",
    "# \tcurr_prev_login\n",
    "# where\n",
    "# \tnext_date - login_date = 1"
   ]
  },
  {
   "cell_type": "code",
   "execution_count": 22,
   "id": "d1905c0c-3042-472a-aeca-70f8565aee45",
   "metadata": {},
   "outputs": [
    {
     "name": "stdout",
     "output_type": "stream",
     "text": [
      "+-------+------+----------+-------------+\n",
      "|user_id|kit_id|login_date|session_count|\n",
      "+-------+------+----------+-------------+\n",
      "|      1|     2|2016-03-01|            5|\n",
      "|      1|     2|2016-03-02|            6|\n",
      "|      2|     3|2017-06-25|            1|\n",
      "|      3|     1|2016-03-02|            0|\n",
      "|      3|     4|2018-07-03|            5|\n",
      "+-------+------+----------+-------------+\n",
      "\n"
     ]
    }
   ],
   "source": [
    "input_df.show()"
   ]
  },
  {
   "cell_type": "code",
   "execution_count": 23,
   "id": "086b9c5e-8a49-4cfb-8c5b-89f3a3a7986f",
   "metadata": {},
   "outputs": [
    {
     "name": "stdout",
     "output_type": "stream",
     "text": [
      "+-------+------+----------+-------------+----------+\n",
      "|user_id|kit_id|login_date|session_count| next_date|\n",
      "+-------+------+----------+-------------+----------+\n",
      "|      1|     2|2016-03-01|            5|2016-03-02|\n",
      "|      1|     2|2016-03-02|            6|      NULL|\n",
      "|      2|     3|2017-06-25|            1|      NULL|\n",
      "|      3|     1|2016-03-02|            0|2018-07-03|\n",
      "|      3|     4|2018-07-03|            5|      NULL|\n",
      "+-------+------+----------+-------------+----------+\n",
      "\n"
     ]
    }
   ],
   "source": [
    "# Solution\n",
    "windowSpec = Window.partitionBy(\"user_id\").orderBy(\"login_date\")\n",
    "\n",
    "lead_df = input_df.withColumn(\n",
    "    \"next_date\",\n",
    "    f.lead(\"login_date\").over(windowSpec)\n",
    ").orderBy(\"user_id\", \"login_date\")\n",
    "\n",
    "lead_df.show()"
   ]
  },
  {
   "cell_type": "code",
   "execution_count": 24,
   "id": "1857068a-dd0f-4d89-8d12-a0e352fabdb4",
   "metadata": {},
   "outputs": [],
   "source": [
    "result = lead_df.select(\"user_id\").filter(\n",
    "    f.date_diff(f.col(\"next_date\"), f.col(\"login_date\")) == 1\n",
    ")"
   ]
  },
  {
   "cell_type": "code",
   "execution_count": 25,
   "id": "31c36be2-d9c8-4360-8e4c-566cc8d8e0fb",
   "metadata": {},
   "outputs": [
    {
     "name": "stdout",
     "output_type": "stream",
     "text": [
      "+-------+\n",
      "|user_id|\n",
      "+-------+\n",
      "|      1|\n",
      "+-------+\n",
      "\n"
     ]
    }
   ],
   "source": [
    "result.show()"
   ]
  }
 ],
 "metadata": {
  "kernelspec": {
   "display_name": "Python 3 (ipykernel)",
   "language": "python",
   "name": "python3"
  },
  "language_info": {
   "codemirror_mode": {
    "name": "ipython",
    "version": 3
   },
   "file_extension": ".py",
   "mimetype": "text/x-python",
   "name": "python",
   "nbconvert_exporter": "python",
   "pygments_lexer": "ipython3",
   "version": "3.11.6"
  }
 },
 "nbformat": 4,
 "nbformat_minor": 5
}
