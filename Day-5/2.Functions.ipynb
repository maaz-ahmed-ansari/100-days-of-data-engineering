{
 "cells": [
  {
   "cell_type": "code",
   "execution_count": 1,
   "id": "c080b30f",
   "metadata": {},
   "outputs": [],
   "source": [
    "game = [\n",
    "    [0, 0, 0],\n",
    "    [0, 0, 0],\n",
    "    [0, 0, 0]\n",
    "]"
   ]
  },
  {
   "cell_type": "code",
   "execution_count": 2,
   "id": "d44ccf0c",
   "metadata": {},
   "outputs": [],
   "source": [
    "def game_board(player=0, row=0, column=0):\n",
    "    print(\"   0  1  2\")\n",
    "    game[row][column] = player\n",
    "    for count, row in enumerate(game):\n",
    "        print(count, row)"
   ]
  },
  {
   "cell_type": "code",
   "execution_count": 3,
   "id": "fc3f2a01",
   "metadata": {},
   "outputs": [
    {
     "name": "stdout",
     "output_type": "stream",
     "text": [
      "   0  1  2\n",
      "0 [0, 0, 0]\n",
      "1 [0, 0, 0]\n",
      "2 [0, 0, 0]\n"
     ]
    }
   ],
   "source": [
    "game_board()"
   ]
  },
  {
   "cell_type": "code",
   "execution_count": 4,
   "id": "14646a7b",
   "metadata": {},
   "outputs": [
    {
     "name": "stdout",
     "output_type": "stream",
     "text": [
      "   0  1  2\n",
      "0 [0, 0, 0]\n",
      "1 [0, 0, 0]\n",
      "2 [0, 1, 0]\n"
     ]
    }
   ],
   "source": [
    "game_board(player=1, row=2, column=1)"
   ]
  },
  {
   "cell_type": "code",
   "execution_count": null,
   "id": "5f7ad968",
   "metadata": {},
   "outputs": [],
   "source": []
  },
  {
   "cell_type": "code",
   "execution_count": 5,
   "id": "450e164c",
   "metadata": {},
   "outputs": [],
   "source": [
    "game = [\n",
    "    [0, 0, 0],\n",
    "    [0, 0, 0],\n",
    "    [0, 0, 0]\n",
    "]"
   ]
  },
  {
   "cell_type": "code",
   "execution_count": 6,
   "id": "0a7a1dac",
   "metadata": {},
   "outputs": [],
   "source": [
    "def game_board(game_map, player=0, row=0, column=0, just_display=False):\n",
    "    print(\"   0  1  2\")\n",
    "    if not just_display:\n",
    "        game_map[row][column] = player\n",
    "    for count, row in enumerate(game_map):\n",
    "        print(count, row)\n",
    "    return game_map"
   ]
  },
  {
   "cell_type": "code",
   "execution_count": 7,
   "id": "9f16fae3",
   "metadata": {
    "scrolled": true
   },
   "outputs": [
    {
     "name": "stdout",
     "output_type": "stream",
     "text": [
      "   0  1  2\n",
      "0 [0, 0, 0]\n",
      "1 [0, 0, 0]\n",
      "2 [0, 0, 0]\n"
     ]
    }
   ],
   "source": [
    "game_map = game_board(game, just_display=True)"
   ]
  },
  {
   "cell_type": "code",
   "execution_count": 8,
   "id": "074eee96",
   "metadata": {},
   "outputs": [
    {
     "name": "stdout",
     "output_type": "stream",
     "text": [
      "   0  1  2\n",
      "0 [0, 0, 0]\n",
      "1 [0, 0, 0]\n",
      "2 [0, 1, 0]\n"
     ]
    }
   ],
   "source": [
    "game_map = game_board(game, player=1, row=2, column=1)"
   ]
  },
  {
   "cell_type": "code",
   "execution_count": null,
   "id": "0a9945a9",
   "metadata": {},
   "outputs": [],
   "source": []
  },
  {
   "cell_type": "code",
   "execution_count": 9,
   "id": "d1e48723",
   "metadata": {},
   "outputs": [],
   "source": [
    "# Quiz"
   ]
  },
  {
   "cell_type": "code",
   "execution_count": 10,
   "id": "ba2099a3",
   "metadata": {},
   "outputs": [],
   "source": [
    "# 1.\n",
    "# x = 1\n",
    "# def test():\n",
    "#     x = 2\n",
    "# test()\n",
    "# print(x)\n",
    "\n",
    "# Answer\n",
    "# 1"
   ]
  },
  {
   "cell_type": "code",
   "execution_count": 11,
   "id": "c04d2533",
   "metadata": {},
   "outputs": [
    {
     "name": "stdout",
     "output_type": "stream",
     "text": [
      "1\n"
     ]
    }
   ],
   "source": [
    "x = 1\n",
    "def test():\n",
    "    x = 2\n",
    "test()\n",
    "print(x)"
   ]
  },
  {
   "cell_type": "code",
   "execution_count": 12,
   "id": "cb14787a",
   "metadata": {},
   "outputs": [],
   "source": [
    "# 2.\n",
    "# x = 1\n",
    "# def test():\n",
    "#     global x\n",
    "#     x = 2\n",
    "# test()\n",
    "# print(x)\n",
    "\n",
    "# Answer\n",
    "# 2"
   ]
  },
  {
   "cell_type": "code",
   "execution_count": 13,
   "id": "659c8f90",
   "metadata": {},
   "outputs": [
    {
     "name": "stdout",
     "output_type": "stream",
     "text": [
      "2\n"
     ]
    }
   ],
   "source": [
    "x = 1\n",
    "def test():\n",
    "    global x\n",
    "    x = 2\n",
    "test()\n",
    "print(x)"
   ]
  },
  {
   "cell_type": "code",
   "execution_count": 14,
   "id": "ba93c168",
   "metadata": {},
   "outputs": [],
   "source": [
    "# 3.\n",
    "# x = [1]\n",
    "# def test():\n",
    "#     x = [2]\n",
    "# test()\n",
    "# print(x)\n",
    "\n",
    "# Answer\n",
    "# [1]"
   ]
  },
  {
   "cell_type": "code",
   "execution_count": 15,
   "id": "b1486627",
   "metadata": {},
   "outputs": [
    {
     "name": "stdout",
     "output_type": "stream",
     "text": [
      "[1]\n"
     ]
    }
   ],
   "source": [
    "x = [1]\n",
    "def test():\n",
    "    x = [2]\n",
    "test()\n",
    "print(x)"
   ]
  },
  {
   "cell_type": "code",
   "execution_count": 16,
   "id": "7fe2c534",
   "metadata": {},
   "outputs": [],
   "source": [
    "# 4.\n",
    "# x = [1]\n",
    "# def test():\n",
    "#     global x\n",
    "#     x = [2]\n",
    "# test()\n",
    "# print(x)\n",
    "\n",
    "# Answer\n",
    "# [2]"
   ]
  },
  {
   "cell_type": "code",
   "execution_count": 17,
   "id": "c4df5895",
   "metadata": {},
   "outputs": [
    {
     "name": "stdout",
     "output_type": "stream",
     "text": [
      "[2]\n"
     ]
    }
   ],
   "source": [
    "x = [1]\n",
    "def test():\n",
    "    global x\n",
    "    x = [2]\n",
    "test()\n",
    "print(x)"
   ]
  },
  {
   "cell_type": "code",
   "execution_count": 18,
   "id": "f6622f33",
   "metadata": {},
   "outputs": [],
   "source": [
    "# 5.\n",
    "# x = [1]\n",
    "# def test():\n",
    "#     x[0] = 2\n",
    "# test()\n",
    "# print(x)\n",
    "\n",
    "# Answer\n",
    "# 2"
   ]
  },
  {
   "cell_type": "code",
   "execution_count": 19,
   "id": "2a01d721",
   "metadata": {},
   "outputs": [
    {
     "name": "stdout",
     "output_type": "stream",
     "text": [
      "[2]\n"
     ]
    }
   ],
   "source": [
    "x = [1]\n",
    "def test():\n",
    "    x[0] = 2\n",
    "test()\n",
    "print(x)"
   ]
  },
  {
   "cell_type": "code",
   "execution_count": null,
   "id": "eb3aa565",
   "metadata": {},
   "outputs": [],
   "source": []
  }
 ],
 "metadata": {
  "kernelspec": {
   "display_name": "Python 3 (ipykernel)",
   "language": "python",
   "name": "python3"
  },
  "language_info": {
   "codemirror_mode": {
    "name": "ipython",
    "version": 3
   },
   "file_extension": ".py",
   "mimetype": "text/x-python",
   "name": "python",
   "nbconvert_exporter": "python",
   "pygments_lexer": "ipython3",
   "version": "3.10.9"
  }
 },
 "nbformat": 4,
 "nbformat_minor": 5
}
