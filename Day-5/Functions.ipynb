{
 "cells": [
  {
   "cell_type": "code",
   "execution_count": 1,
   "id": "c080b30f",
   "metadata": {},
   "outputs": [],
   "source": [
    "game = [\n",
    "    [0, 0, 0],\n",
    "    [0, 0, 0],\n",
    "    [0, 0, 0]\n",
    "]"
   ]
  },
  {
   "cell_type": "code",
   "execution_count": 2,
   "id": "d44ccf0c",
   "metadata": {},
   "outputs": [],
   "source": [
    "def game_board(player=0, row=0, column=0):\n",
    "    print(\"   0  1  2\")\n",
    "    game[row][column] = player\n",
    "    for count, row in enumerate(game):\n",
    "        print(count, row)"
   ]
  },
  {
   "cell_type": "code",
   "execution_count": 3,
   "id": "fc3f2a01",
   "metadata": {},
   "outputs": [
    {
     "name": "stdout",
     "output_type": "stream",
     "text": [
      "   0  1  2\n",
      "0 [0, 0, 0]\n",
      "1 [0, 0, 0]\n",
      "2 [0, 0, 0]\n"
     ]
    }
   ],
   "source": [
    "game_board()"
   ]
  },
  {
   "cell_type": "code",
   "execution_count": 4,
   "id": "14646a7b",
   "metadata": {},
   "outputs": [
    {
     "name": "stdout",
     "output_type": "stream",
     "text": [
      "   0  1  2\n",
      "0 [0, 0, 0]\n",
      "1 [0, 0, 0]\n",
      "2 [0, 1, 0]\n"
     ]
    }
   ],
   "source": [
    "game_board(player=1, row=2, column=1)"
   ]
  },
  {
   "cell_type": "code",
   "execution_count": null,
   "id": "0a7a1dac",
   "metadata": {},
   "outputs": [],
   "source": []
  }
 ],
 "metadata": {
  "kernelspec": {
   "display_name": "Python 3 (ipykernel)",
   "language": "python",
   "name": "python3"
  },
  "language_info": {
   "codemirror_mode": {
    "name": "ipython",
    "version": 3
   },
   "file_extension": ".py",
   "mimetype": "text/x-python",
   "name": "python",
   "nbconvert_exporter": "python",
   "pygments_lexer": "ipython3",
   "version": "3.10.9"
  }
 },
 "nbformat": 4,
 "nbformat_minor": 5
}
