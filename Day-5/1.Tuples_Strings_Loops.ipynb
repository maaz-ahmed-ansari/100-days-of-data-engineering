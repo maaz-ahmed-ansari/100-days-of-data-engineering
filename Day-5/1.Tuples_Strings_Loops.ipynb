{
 "cells": [
  {
   "cell_type": "code",
   "execution_count": 1,
   "id": "f4434e4d",
   "metadata": {},
   "outputs": [],
   "source": [
    "programming_languages = \"Python\", \"Java\", \"C++\", \"C#\""
   ]
  },
  {
   "cell_type": "code",
   "execution_count": 2,
   "id": "e2ed9680",
   "metadata": {},
   "outputs": [
    {
     "name": "stdout",
     "output_type": "stream",
     "text": [
      "<class 'tuple'>\n"
     ]
    }
   ],
   "source": [
    "print(type(programming_languages))"
   ]
  },
  {
   "cell_type": "code",
   "execution_count": 3,
   "id": "9c9b964a",
   "metadata": {},
   "outputs": [
    {
     "name": "stdout",
     "output_type": "stream",
     "text": [
      "Python\n",
      "Java\n",
      "C++\n",
      "C#\n"
     ]
    }
   ],
   "source": [
    "for language in programming_languages:\n",
    "    print(language)"
   ]
  },
  {
   "cell_type": "code",
   "execution_count": null,
   "id": "91a587dc",
   "metadata": {},
   "outputs": [],
   "source": []
  }
 ],
 "metadata": {
  "kernelspec": {
   "display_name": "Python 3 (ipykernel)",
   "language": "python",
   "name": "python3"
  },
  "language_info": {
   "codemirror_mode": {
    "name": "ipython",
    "version": 3
   },
   "file_extension": ".py",
   "mimetype": "text/x-python",
   "name": "python",
   "nbconvert_exporter": "python",
   "pygments_lexer": "ipython3",
   "version": "3.10.9"
  }
 },
 "nbformat": 4,
 "nbformat_minor": 5
}
