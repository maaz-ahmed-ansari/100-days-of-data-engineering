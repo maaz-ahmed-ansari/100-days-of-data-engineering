{
 "cells": [
  {
   "cell_type": "code",
   "execution_count": 1,
   "id": "2ecd627e",
   "metadata": {},
   "outputs": [],
   "source": [
    "game = [\n",
    "    [0, 0, 0],\n",
    "    [0, 0, 0],\n",
    "    [0, 0, 0]\n",
    "]"
   ]
  },
  {
   "cell_type": "code",
   "execution_count": 2,
   "id": "1efabb16",
   "metadata": {},
   "outputs": [],
   "source": [
    "def game_board(game_map, player=0, row=0, column=0, just_display=False):\n",
    "    print(\"   0  1  2\")\n",
    "    if not just_display:\n",
    "        game_map[row][column] = player\n",
    "    for count, row in enumerate(game_map):\n",
    "        print(count, row)\n",
    "    return game_map"
   ]
  },
  {
   "cell_type": "code",
   "execution_count": 3,
   "id": "955f1e73",
   "metadata": {},
   "outputs": [
    {
     "name": "stdout",
     "output_type": "stream",
     "text": [
      "   0  1  2\n",
      "0 [0, 0, 0]\n",
      "1 [0, 0, 0]\n",
      "2 [0, 0, 0]\n"
     ]
    }
   ],
   "source": [
    "game_map = game_board(game, just_display=True)"
   ]
  },
  {
   "cell_type": "code",
   "execution_count": 4,
   "id": "03844c73",
   "metadata": {},
   "outputs": [
    {
     "name": "stdout",
     "output_type": "stream",
     "text": [
      "   0  1  2\n",
      "0 [0, 0, 0]\n",
      "1 [0, 0, 0]\n",
      "2 [0, 1, 0]\n"
     ]
    }
   ],
   "source": [
    "game_map = game_board(game, player=1, row=2, column=1)"
   ]
  },
  {
   "cell_type": "code",
   "execution_count": 5,
   "id": "aaacbdf0",
   "metadata": {},
   "outputs": [
    {
     "name": "stdout",
     "output_type": "stream",
     "text": [
      "   0  1  2\n"
     ]
    },
    {
     "ename": "IndexError",
     "evalue": "list index out of range",
     "output_type": "error",
     "traceback": [
      "\u001b[1;31m---------------------------------------------------------------------------\u001b[0m",
      "\u001b[1;31mIndexError\u001b[0m                                Traceback (most recent call last)",
      "Cell \u001b[1;32mIn[5], line 2\u001b[0m\n\u001b[0;32m      1\u001b[0m \u001b[38;5;66;03m# Let's say user want to play at row 3\u001b[39;00m\n\u001b[1;32m----> 2\u001b[0m game_map \u001b[38;5;241m=\u001b[39m \u001b[43mgame_board\u001b[49m\u001b[43m(\u001b[49m\u001b[43mgame\u001b[49m\u001b[43m,\u001b[49m\u001b[43m \u001b[49m\u001b[43mplayer\u001b[49m\u001b[38;5;241;43m=\u001b[39;49m\u001b[38;5;241;43m1\u001b[39;49m\u001b[43m,\u001b[49m\u001b[43m \u001b[49m\u001b[43mrow\u001b[49m\u001b[38;5;241;43m=\u001b[39;49m\u001b[38;5;241;43m3\u001b[39;49m\u001b[43m,\u001b[49m\u001b[43m \u001b[49m\u001b[43mcolumn\u001b[49m\u001b[38;5;241;43m=\u001b[39;49m\u001b[38;5;241;43m1\u001b[39;49m\u001b[43m)\u001b[49m\n",
      "Cell \u001b[1;32mIn[2], line 4\u001b[0m, in \u001b[0;36mgame_board\u001b[1;34m(game_map, player, row, column, just_display)\u001b[0m\n\u001b[0;32m      2\u001b[0m \u001b[38;5;28mprint\u001b[39m(\u001b[38;5;124m\"\u001b[39m\u001b[38;5;124m   0  1  2\u001b[39m\u001b[38;5;124m\"\u001b[39m)\n\u001b[0;32m      3\u001b[0m \u001b[38;5;28;01mif\u001b[39;00m \u001b[38;5;129;01mnot\u001b[39;00m just_display:\n\u001b[1;32m----> 4\u001b[0m     \u001b[43mgame_map\u001b[49m\u001b[43m[\u001b[49m\u001b[43mrow\u001b[49m\u001b[43m]\u001b[49m[column] \u001b[38;5;241m=\u001b[39m player\n\u001b[0;32m      5\u001b[0m \u001b[38;5;28;01mfor\u001b[39;00m count, row \u001b[38;5;129;01min\u001b[39;00m \u001b[38;5;28menumerate\u001b[39m(game_map):\n\u001b[0;32m      6\u001b[0m     \u001b[38;5;28mprint\u001b[39m(count, row)\n",
      "\u001b[1;31mIndexError\u001b[0m: list index out of range"
     ]
    }
   ],
   "source": [
    "# Let's say user want to play at row 3\n",
    "game_map = game_board(game, player=1, row=3, column=1)"
   ]
  },
  {
   "cell_type": "code",
   "execution_count": 6,
   "id": "43c2f95a",
   "metadata": {},
   "outputs": [],
   "source": [
    "def game_board(game_map, player=0, row=0, column=0, just_display=False):\n",
    "    try:\n",
    "        print(\"   0  1  2\")\n",
    "        if not just_display:\n",
    "            game_map[row][column] = player\n",
    "        for count, row in enumerate(game_map):\n",
    "            print(count, row)\n",
    "        return game_map\n",
    "    except:\n",
    "        print(\"something went wrong!\")"
   ]
  },
  {
   "cell_type": "code",
   "execution_count": 7,
   "id": "7ba1c0c6",
   "metadata": {},
   "outputs": [
    {
     "name": "stdout",
     "output_type": "stream",
     "text": [
      "   0  1  2\n",
      "something went wrong!\n"
     ]
    }
   ],
   "source": [
    "game_map = game_board(game, player=1, row=3, column=1)"
   ]
  },
  {
   "cell_type": "code",
   "execution_count": 8,
   "id": "0e3959fd",
   "metadata": {},
   "outputs": [],
   "source": [
    "def game_board(game_map, player=0, row=0, column=0, just_display=False):\n",
    "    try:\n",
    "        print(\"   0  1  2\")\n",
    "        if not just_display:\n",
    "            game_map[row][column] = player\n",
    "        for count, row in enumerate(game_map):\n",
    "            print(count, row)\n",
    "        return game_map\n",
    "    except IndexError as e:\n",
    "        print(\"Error: Make sure you input row/column as 0, 1 or 2?\", e)"
   ]
  },
  {
   "cell_type": "code",
   "execution_count": 9,
   "id": "2f9df7a9",
   "metadata": {},
   "outputs": [
    {
     "name": "stdout",
     "output_type": "stream",
     "text": [
      "   0  1  2\n",
      "Error: Make sure you input row/column as 0, 1 or 2? list index out of range\n"
     ]
    }
   ],
   "source": [
    "game_map = game_board(game, player=1, row=3, column=1)"
   ]
  },
  {
   "cell_type": "code",
   "execution_count": 10,
   "id": "9601c729",
   "metadata": {},
   "outputs": [
    {
     "name": "stdout",
     "output_type": "stream",
     "text": [
      "   0  1  2\n"
     ]
    },
    {
     "ename": "TypeError",
     "evalue": "'function' object is not subscriptable",
     "output_type": "error",
     "traceback": [
      "\u001b[1;31m---------------------------------------------------------------------------\u001b[0m",
      "\u001b[1;31mTypeError\u001b[0m                                 Traceback (most recent call last)",
      "Cell \u001b[1;32mIn[10], line 1\u001b[0m\n\u001b[1;32m----> 1\u001b[0m game_map \u001b[38;5;241m=\u001b[39m \u001b[43mgame_board\u001b[49m\u001b[43m(\u001b[49m\u001b[43mgame_board\u001b[49m\u001b[43m,\u001b[49m\u001b[43m \u001b[49m\u001b[43mplayer\u001b[49m\u001b[38;5;241;43m=\u001b[39;49m\u001b[38;5;241;43m1\u001b[39;49m\u001b[43m,\u001b[49m\u001b[43m \u001b[49m\u001b[43mrow\u001b[49m\u001b[38;5;241;43m=\u001b[39;49m\u001b[38;5;241;43m3\u001b[39;49m\u001b[43m,\u001b[49m\u001b[43m \u001b[49m\u001b[43mcolumn\u001b[49m\u001b[38;5;241;43m=\u001b[39;49m\u001b[38;5;241;43m1\u001b[39;49m\u001b[43m)\u001b[49m\n",
      "Cell \u001b[1;32mIn[8], line 5\u001b[0m, in \u001b[0;36mgame_board\u001b[1;34m(game_map, player, row, column, just_display)\u001b[0m\n\u001b[0;32m      3\u001b[0m \u001b[38;5;28mprint\u001b[39m(\u001b[38;5;124m\"\u001b[39m\u001b[38;5;124m   0  1  2\u001b[39m\u001b[38;5;124m\"\u001b[39m)\n\u001b[0;32m      4\u001b[0m \u001b[38;5;28;01mif\u001b[39;00m \u001b[38;5;129;01mnot\u001b[39;00m just_display:\n\u001b[1;32m----> 5\u001b[0m     \u001b[43mgame_map\u001b[49m\u001b[43m[\u001b[49m\u001b[43mrow\u001b[49m\u001b[43m]\u001b[49m[column] \u001b[38;5;241m=\u001b[39m player\n\u001b[0;32m      6\u001b[0m \u001b[38;5;28;01mfor\u001b[39;00m count, row \u001b[38;5;129;01min\u001b[39;00m \u001b[38;5;28menumerate\u001b[39m(game_map):\n\u001b[0;32m      7\u001b[0m     \u001b[38;5;28mprint\u001b[39m(count, row)\n",
      "\u001b[1;31mTypeError\u001b[0m: 'function' object is not subscriptable"
     ]
    }
   ],
   "source": [
    "game_map = game_board(game_board, player=1, row=3, column=1)"
   ]
  },
  {
   "cell_type": "code",
   "execution_count": null,
   "id": "1054f53c",
   "metadata": {},
   "outputs": [],
   "source": []
  },
  {
   "cell_type": "code",
   "execution_count": 11,
   "id": "46e05f57",
   "metadata": {},
   "outputs": [],
   "source": [
    "def game_board(game_map, player=0, row=0, column=0, just_display=False):\n",
    "    try:\n",
    "        print(\"   0  1  2\")\n",
    "        if not just_display:\n",
    "            game_map[row][column] = player\n",
    "        for count, row in enumerate(game_map):\n",
    "            print(count, row)\n",
    "        return game_map\n",
    "    except IndexError as e:\n",
    "        print(\"Error: Make sure you input row/column as 0, 1 or 2?\", e)\n",
    "    except Exception as e:\n",
    "        print(\"Something went very wrong!\", e)"
   ]
  },
  {
   "cell_type": "code",
   "execution_count": 12,
   "id": "7291aa0d",
   "metadata": {},
   "outputs": [
    {
     "name": "stdout",
     "output_type": "stream",
     "text": [
      "   0  1  2\n",
      "Something went very wrong! 'function' object is not subscriptable\n"
     ]
    }
   ],
   "source": [
    "game_map = game_board(game_board, player=1, row=3, column=1)"
   ]
  },
  {
   "cell_type": "code",
   "execution_count": null,
   "id": "d1e2f013",
   "metadata": {},
   "outputs": [],
   "source": []
  },
  {
   "cell_type": "code",
   "execution_count": 13,
   "id": "5bcc08dc",
   "metadata": {},
   "outputs": [],
   "source": [
    "# def game_board(game_map, player=0, row=0, column=0, just_display=False):\n",
    "#     try:\n",
    "#         print(\"   0  1  2\")\n",
    "#         if not just_display:\n",
    "#             game_map[row][column] = player\n",
    "#         for count, row in enumerate(game_map):\n",
    "#             print(count, row)\n",
    "#         return game_map\n",
    "#     except IndexError as e:\n",
    "#         print(\"Error: Make sure you input row/column as 0, 1 or 2?\", e)\n",
    "#     except Exception as e:\n",
    "#         print(\"Something went very wrong!\", e)\n",
    "        \n",
    "#         raise\n",
    "        \n",
    "#     else:\n",
    "    \n",
    "#     finally:"
   ]
  },
  {
   "cell_type": "code",
   "execution_count": null,
   "id": "5217e139",
   "metadata": {},
   "outputs": [],
   "source": []
  }
 ],
 "metadata": {
  "kernelspec": {
   "display_name": "Python 3 (ipykernel)",
   "language": "python",
   "name": "python3"
  },
  "language_info": {
   "codemirror_mode": {
    "name": "ipython",
    "version": 3
   },
   "file_extension": ".py",
   "mimetype": "text/x-python",
   "name": "python",
   "nbconvert_exporter": "python",
   "pygments_lexer": "ipython3",
   "version": "3.10.9"
  }
 },
 "nbformat": 4,
 "nbformat_minor": 5
}
